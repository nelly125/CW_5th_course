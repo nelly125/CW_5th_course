{
 "cells": [
  {
   "cell_type": "code",
   "execution_count": 32,
   "id": "8612646b",
   "metadata": {},
   "outputs": [],
   "source": [
    "import numpy as np\n",
    "import math\n",
    "import matplotlib.pyplot as plt"
   ]
  },
  {
   "cell_type": "code",
   "execution_count": 66,
   "id": "69ab8147",
   "metadata": {},
   "outputs": [],
   "source": [
    "# Заданные значения id и jd\n",
    "id = 100\n",
    "jd = 100\n",
    "\n",
    "# Заданные начальные значения\n",
    "w = np.zeros((id + 1, jd + 1))\n",
    "c = np.zeros(id + 1)\n",
    "a = np.zeros(id + 1)\n",
    "cv = np.zeros(id + 1)\n",
    "G = np.zeros((id + 1, jd + 1))\n",
    "\n",
    "# Заданные значения\n",
    "Mah = 0.\n",
    "\n",
    "R = 5\n",
    "\n",
    "dr = R / id\n",
    "dtt = math.atan(1.0) * 4.0 / jd\n",
    "r = np.linspace(1, R, id + 1)\n",
    "theta = np.zeros(jd + 1)\n",
    "\n",
    "# Заполнение массивов\n",
    "for i in range(id + 1):\n",
    "    a[i] = 0.5  * dr/ (r[i])\n",
    "    c[i] = (dr / (r[i] * dtt))**2\n",
    "    cv[i] = 0.5 / (r[i] * dtt)\n",
    "\n",
    "for j in range (0, jd + 1):\n",
    "    theta[j] = j * dtt\n",
    "    \n",
    "cu = 0.5 / dr\n",
    "\n",
    "# Заполнение массива w\n",
    "for j in range(jd + 1):\n",
    "    costt = math.cos(theta[j])\n",
    "    for i in range(id + 1):\n",
    "        w[i, j] = (r[i] + 1 / r[i]) *  costt\n",
    "        \n",
    "w[0][:] = 0\n",
    "w[id][:] = r[:] * np.cos(theta[:])\n",
    "w[:][0] = 0\n",
    "w[:][jd] = 0"
   ]
  },
  {
   "cell_type": "code",
   "execution_count": 67,
   "id": "8816171e",
   "metadata": {},
   "outputs": [],
   "source": [
    "def Plot(r, theta, Phi):\n",
    "    fig = plt.figure(figsize=(10, 10))\n",
    "    R, Theta = np.meshgrid(r, theta)\n",
    "    ax = fig.add_subplot(111)\n",
    "    c = ax.pcolormesh(R, Theta, Phi, cmap='viridis')\n",
    "    plt.colorbar(c, ax=ax, label='')\n",
    "    plt.xlabel('r', fontsize=18)\n",
    "    plt.ylabel(\"theta\", fontsize=18)\n",
    "    plt.title(\"Phi\", fontsize=18)\n",
    "    plt.show()"
   ]
  },
  {
   "cell_type": "code",
   "execution_count": 68,
   "id": "ffa93bd6",
   "metadata": {},
   "outputs": [],
   "source": [
    "def uvp(w):\n",
    "    u = np.zeros((id + 1, jd + 1))\n",
    "    v = np.zeros((id + 1, jd + 1))\n",
    "    p = np.ones((id + 1, jd + 1))\n",
    "    cMM = Mah * Mah * 0.2\n",
    "    for j in range(1, jd):\n",
    "        for i in range(1, id):\n",
    "            u[i, j] = (w[i + 1, j] - w[i - 1, j]) * cu\n",
    "            v[i, j] = (w[i, j + 1] - w[i, j - 1]) * cv[i]\n",
    "            VV = u[i, j]**2 + v[i, j]**2\n",
    "            q = (1. - VV) * cMM + 1\n",
    "            p[i, j] = np.sqrt(q) * q**2\n",
    "        u[0, j] =0\n",
    "        v[0, j] = 0\n",
    "        u[id, j] = np.cos(theta[j])\n",
    "        v[id, j] = - np.sin(theta[j])\n",
    "        p[0][j] = p[1][j]\n",
    "        p[id][j] = p[id - 1][j]\n",
    "    for i in range(0, id):\n",
    "        u[i, 0] = 0\n",
    "        u[i, jd] = 0\n",
    "        v[i, 0] = 0\n",
    "        v[i, jd] = 0\n",
    "        p[i][0] = p[i][1]\n",
    "        p[i][jd] = p[i][jd - 1]\n",
    "    return u, v, p\n",
    "\n",
    "def coeff(w):\n",
    "    B = np.zeros((id + 1, jd + 1))\n",
    "    D = np.zeros((id + 1, jd + 1))\n",
    "    oE = np.zeros((id + 1, jd + 1))\n",
    "    F = np.zeros((id + 1, jd + 1))\n",
    "    H = np.zeros((id + 1, jd + 1))\n",
    "    u, v, p = uvp(w)\n",
    "    for j in range(1, jd):\n",
    "        for i in range(1, id):\n",
    "            B[i, j] = (p[i, j - 1] + p[i, j]) * 0.5 * c[i]\n",
    "            H[i, j] = (p[i, j] + p[i, j + 1]) * 0.5 * c[i]\n",
    "            Pim = (p[i - 1, j] + p[i, j]) * 0.5\n",
    "            Pip = (p[i, j] + p[i + 1, j]) * 0.5\n",
    "            Eij = Pip + Pim + B[i, j] + H[i, j]\n",
    "            aP = a[i] * p[i, j]\n",
    "            F[i, j] = Pip + aP\n",
    "            D[i, j] = Pim - aP\n",
    "            oE[i, j] = 1.0 / Eij\n",
    "    return B, D, oE, F, H\n",
    "\n",
    "def FEM(w, B, D, F, H, oE):\n",
    "    ww = np.zeros((id + 1, jd + 1))\n",
    "\n",
    "    for k in range(1):\n",
    "        for i in range(1, id):\n",
    "            for j in range(1, jd):\n",
    "                ww[i, j] = (w[i, j - 1] * B[i, j] +\n",
    "                            w[i - 1, j] * D[i, j] +\n",
    "                            w[i + 1, j] * F[i, j] +\n",
    "                            w[i, j + 1] * H[i, j]) * oE[i, j]\n",
    "        \n",
    "        ww[0, :] = 0\n",
    "        for j in range(jd  + 1):\n",
    "            ww[id, j] = r[id] * np.cos(theta[j])\n",
    "#             ww[id, j] = w[id, j]\n",
    "     #     ww[:, 0] = (ww[:, 1] * 4 - ww[:, 2]) / 3\n",
    "    #     ww[:, jd] = (ww[:, jd - 1] * 4 - ww[:, jd - 2] ) / 3\n",
    "        ww[:, 0] = 0\n",
    "        ww[:, jd] = 0\n",
    "    return ww"
   ]
  },
  {
   "cell_type": "code",
   "execution_count": 69,
   "id": "abddd09e",
   "metadata": {},
   "outputs": [],
   "source": [
    "def plot_u(u):\n",
    "    R, Theta = np.meshgrid(r, theta)\n",
    "    fig = plt.figure(figsize=(15, 10))\n",
    "    ax = fig.add_subplot(111)\n",
    "    c = ax.contourf(R, Theta, u.T, cmap='viridis')\n",
    "    plt.colorbar(c, label='Скорость u')\n",
    "    plt.title('График скорости u в полярных координатах')\n",
    "    ax.set_xlabel('r', fontsize=18)\n",
    "    ax.set_ylabel('theta', fontsize=18)\n",
    "    plt.show()\n",
    "    \n",
    "def plot_v(u):\n",
    "    R, Theta = np.meshgrid(r, theta)\n",
    "    fig = plt.figure(figsize=(15, 10))\n",
    "    ax = fig.add_subplot(111)\n",
    "    c = ax.contourf(R, Theta, u.T, cmap='viridis')\n",
    "    plt.colorbar(c, label='Скорость u')\n",
    "    plt.title('График скорости v в полярных координатах')\n",
    "    ax.set_xlabel('r', fontsize=18)\n",
    "    ax.set_ylabel('theta', fontsize=18)\n",
    "    plt.show()\n",
    "    \n",
    "    \n",
    "def plot_p(v):\n",
    "    R, Theta = np.meshgrid(r, theta)\n",
    "    fig = plt.figure(figsize=(15, 10))\n",
    "    ax = fig.add_subplot(111)\n",
    "    c = ax.contourf(R, Theta, p.T, cmap='viridis')\n",
    "    plt.colorbar(c, label='Плотность')\n",
    "    plt.title('График плотности в полярных координатах')\n",
    "    plt.show()"
   ]
  },
  {
   "cell_type": "code",
   "execution_count": 70,
   "id": "7033ec41",
   "metadata": {},
   "outputs": [
    {
     "data": {
      "text/plain": [
       "array([[ 0.        ,  0.        ,  0.        , ...,  0.        ,\n",
       "         0.        ,  0.        ],\n",
       "       [ 2.00153846,  2.00055082,  1.99758888, ..., -1.99758888,\n",
       "        -2.00055082, -2.00153846],\n",
       "       [ 2.00592593,  2.00493612,  2.00196769, ..., -2.00196769,\n",
       "        -2.00493612, -2.00592593],\n",
       "       ...,\n",
       "       [ 5.12325203,  5.12072402,  5.11314246, ..., -5.11314246,\n",
       "        -5.12072402, -5.12325203],\n",
       "       [ 5.1616129 ,  5.15906596,  5.15142764, ..., -5.15142764,\n",
       "        -5.15906596, -5.1616129 ],\n",
       "       [ 0.        ,  0.        ,  0.        , ...,  0.        ,\n",
       "         0.        ,  0.        ]])"
      ]
     },
     "execution_count": 70,
     "metadata": {},
     "output_type": "execute_result"
    }
   ],
   "source": [
    "w"
   ]
  },
  {
   "cell_type": "code",
   "execution_count": 71,
   "id": "b7e0f61a",
   "metadata": {},
   "outputs": [
    {
     "data": {
      "image/png": "[encoded data removed]",
      "text/plain": [
       "<Figure size 720x720 with 2 Axes>"
      ]
     },
     "metadata": {
      "needs_background": "light"
     },
     "output_type": "display_data"
    }
   ],
   "source": [
    "Plot(r, theta, w)"
   ]
  },
  {
   "cell_type": "code",
   "execution_count": 72,
   "id": "e2f7cb8d",
   "metadata": {},
   "outputs": [
    {
     "data": {
      "text/plain": [
       "array([[ 0.        ,  0.        ,  0.        , ...,  0.        ,\n",
       "         0.        ,  0.        ],\n",
       "       [ 2.00153846,  2.00055082,  1.99758888, ..., -1.99758888,\n",
       "        -2.00055082, -2.00153846],\n",
       "       [ 2.00592593,  2.00493612,  2.00196769, ..., -2.00196769,\n",
       "        -2.00493612, -2.00592593],\n",
       "       ...,\n",
       "       [ 5.12325203,  5.12072402,  5.11314246, ..., -5.11314246,\n",
       "        -5.12072402, -5.12325203],\n",
       "       [ 5.1616129 ,  5.15906596,  5.15142764, ..., -5.15142764,\n",
       "        -5.15906596, -5.1616129 ],\n",
       "       [ 0.        ,  0.        ,  0.        , ...,  0.        ,\n",
       "         0.        ,  0.        ]])"
      ]
     },
     "execution_count": 72,
     "metadata": {},
     "output_type": "execute_result"
    }
   ],
   "source": [
    "w"
   ]
  },
  {
   "cell_type": "code",
   "execution_count": 73,
   "id": "1e4871b0",
   "metadata": {},
   "outputs": [
    {
     "data": {
      "text/plain": [
       "-5.161612903225806"
      ]
     },
     "execution_count": 73,
     "metadata": {},
     "output_type": "execute_result"
    }
   ],
   "source": [
    "w.min()"
   ]
  },
  {
   "cell_type": "code",
   "execution_count": 74,
   "id": "ff25aac2",
   "metadata": {},
   "outputs": [
    {
     "data": {
      "text/plain": [
       "5.161612903225806"
      ]
     },
     "execution_count": 74,
     "metadata": {},
     "output_type": "execute_result"
    }
   ],
   "source": [
    "w.max()"
   ]
  },
  {
   "cell_type": "code",
   "execution_count": 75,
   "id": "09f56c62",
   "metadata": {},
   "outputs": [
    {
     "data": {
      "text/plain": [
       "[<matplotlib.lines.Line2D at 0x7f7a709f9b10>]"
      ]
     },
     "execution_count": 75,
     "metadata": {},
     "output_type": "execute_result"
    },
    {
     "data": {
      "image/png": "[encoded data removed]",
      "text/plain": [
       "<Figure size 432x288 with 1 Axes>"
      ]
     },
     "metadata": {
      "needs_background": "light"
     },
     "output_type": "display_data"
    }
   ],
   "source": [
    "plt.plot(theta, w[id, :])"
   ]
  },
  {
   "cell_type": "code",
   "execution_count": 76,
   "id": "84ab125b",
   "metadata": {},
   "outputs": [
    {
     "data": {
      "text/plain": [
       "0.0"
      ]
     },
     "execution_count": 76,
     "metadata": {},
     "output_type": "execute_result"
    }
   ],
   "source": [
    "w[id, :].max()"
   ]
  },
  {
   "cell_type": "code",
   "execution_count": 77,
   "id": "e7c5e568",
   "metadata": {},
   "outputs": [
    {
     "data": {
      "text/plain": [
       "0.0"
      ]
     },
     "execution_count": 77,
     "metadata": {},
     "output_type": "execute_result"
    }
   ],
   "source": [
    "w[id, :].min()"
   ]
  },
  {
   "cell_type": "code",
   "execution_count": 78,
   "id": "7e22e08a",
   "metadata": {},
   "outputs": [],
   "source": [
    "u, v, p = uvp(w)"
   ]
  },
  {
   "cell_type": "code",
   "execution_count": 79,
   "id": "955761c4",
   "metadata": {},
   "outputs": [
    {
     "data": {
      "image/png": "[encoded data removed]",
      "text/plain": [
       "<Figure size 1080x720 with 2 Axes>"
      ]
     },
     "metadata": {
      "needs_background": "light"
     },
     "output_type": "display_data"
    }
   ],
   "source": [
    "plot_u(u)"
   ]
  },
  {
   "cell_type": "code",
   "execution_count": 80,
   "id": "4b2d8d84",
   "metadata": {},
   "outputs": [
    {
     "data": {
      "image/png": "[encoded data removed]",
      "text/plain": [
       "<Figure size 1080x720 with 2 Axes>"
      ]
     },
     "metadata": {
      "needs_background": "light"
     },
     "output_type": "display_data"
    }
   ],
   "source": [
    "plot_v(v)"
   ]
  },
  {
   "cell_type": "code",
   "execution_count": 81,
   "id": "d272ea27",
   "metadata": {},
   "outputs": [
    {
     "data": {
      "image/png": "[encoded data removed]",
      "text/plain": [
       "<Figure size 1080x720 with 2 Axes>"
      ]
     },
     "metadata": {
      "needs_background": "light"
     },
     "output_type": "display_data"
    }
   ],
   "source": [
    "plot_p(p)"
   ]
  },
  {
   "cell_type": "code",
   "execution_count": null,
   "id": "b80a5a48",
   "metadata": {},
   "outputs": [],
   "source": [
    "iter = 3000  # Устанавливаем количество итераций\n",
    "for itr in range(iter):\n",
    "    B, D, oE, F, H = coeff(w)\n",
    "    w = FEM(w, B, D, F, H, oE)"
   ]
  },
  {
   "cell_type": "code",
   "execution_count": null,
   "id": "6db0000b",
   "metadata": {},
   "outputs": [],
   "source": [
    "Plot(r, theta, w)"
   ]
  },
  {
   "cell_type": "code",
   "execution_count": null,
   "id": "1d09be2f",
   "metadata": {},
   "outputs": [],
   "source": [
    "w.min()"
   ]
  },
  {
   "cell_type": "code",
   "execution_count": null,
   "id": "a3d5b0ed",
   "metadata": {},
   "outputs": [],
   "source": [
    "w.max()"
   ]
  },
  {
   "cell_type": "code",
   "execution_count": null,
   "id": "67ad71a1",
   "metadata": {},
   "outputs": [],
   "source": [
    "plt.plot(theta, w[id, :])"
   ]
  },
  {
   "cell_type": "code",
   "execution_count": null,
   "id": "45d384ba",
   "metadata": {},
   "outputs": [],
   "source": [
    "w[id, :].max()"
   ]
  },
  {
   "cell_type": "code",
   "execution_count": null,
   "id": "166ac7af",
   "metadata": {},
   "outputs": [],
   "source": [
    "plt.plot(theta, w[0, :])"
   ]
  },
  {
   "cell_type": "code",
   "execution_count": null,
   "id": "165e6448",
   "metadata": {},
   "outputs": [],
   "source": [
    "u, v, p = uvp(w)"
   ]
  },
  {
   "cell_type": "code",
   "execution_count": null,
   "id": "848fe545",
   "metadata": {},
   "outputs": [],
   "source": [
    "plot_u(u)"
   ]
  },
  {
   "cell_type": "code",
   "execution_count": null,
   "id": "fd451ef4",
   "metadata": {
    "scrolled": false
   },
   "outputs": [],
   "source": [
    "plot_v(v)"
   ]
  },
  {
   "cell_type": "code",
   "execution_count": null,
   "id": "6228ebf6",
   "metadata": {},
   "outputs": [],
   "source": [
    "plot_p(p)"
   ]
  },
  {
   "cell_type": "markdown",
   "id": "0ceaba5e",
   "metadata": {},
   "source": [
    "# plt.plot(theta, u[0, :])"
   ]
  },
  {
   "cell_type": "code",
   "execution_count": 61,
   "id": "ada93f84",
   "metadata": {},
   "outputs": [],
   "source": [
    "a2 = 1.4 * p[0, :] **(1.4 - 1)"
   ]
  },
  {
   "cell_type": "code",
   "execution_count": 62,
   "id": "353a6b00",
   "metadata": {},
   "outputs": [],
   "source": [
    "M2 = v[0, :]**2 / a2\n",
    "M = np.sqrt(M2)"
   ]
  },
  {
   "cell_type": "code",
   "execution_count": 63,
   "id": "20cc95e3",
   "metadata": {},
   "outputs": [
    {
     "data": {
      "text/plain": [
       "[<matplotlib.lines.Line2D at 0x7f7a70e3dfc0>]"
      ]
     },
     "execution_count": 63,
     "metadata": {},
     "output_type": "execute_result"
    },
    {
     "data": {
      "image/png": "[encoded data removed]",
      "text/plain": [
       "<Figure size 432x288 with 1 Axes>"
      ]
     },
     "metadata": {
      "needs_background": "light"
     },
     "output_type": "display_data"
    }
   ],
   "source": [
    "plt.plot(theta, M * Mah)"
   ]
  },
  {
   "cell_type": "code",
   "execution_count": 64,
   "id": "acc75f92",
   "metadata": {},
   "outputs": [
    {
     "data": {
      "text/plain": [
       "[<matplotlib.lines.Line2D at 0x7f7a7098faf0>]"
      ]
     },
     "execution_count": 64,
     "metadata": {},
     "output_type": "execute_result"
    },
    {
     "data": {
      "image/png": "[encoded data removed]",
      "text/plain": [
       "<Figure size 432x288 with 1 Axes>"
      ]
     },
     "metadata": {
      "needs_background": "light"
     },
     "output_type": "display_data"
    }
   ],
   "source": [
    "plt.plot(theta, u[0, :])"
   ]
  },
  {
   "cell_type": "code",
   "execution_count": 65,
   "id": "2bf6a6ce",
   "metadata": {},
   "outputs": [],
   "source": [
    "def plot_uvp(w):\n",
    "    u, v,  p = uvp(w)\n",
    "    R, Theta = np.meshgrid(r, theta)\n",
    "    fig = plt.figure(figsize=(15, 10))\n",
    "    ax = fig.add_subplot(111)\n",
    "    c = ax.contourf(R, Theta, u.T, cmap='viridis')\n",
    "    plt.colorbar(c, label='Скорость u')\n",
    "    plt.title('График скорости u в полярных координатах')\n",
    "    ax.set_xlabel('r', fontsize=18)\n",
    "    ax.set_ylabel('theta', fontsize=18)\n",
    "    plt.show()"
   ]
  },
  {
   "cell_type": "code",
   "execution_count": null,
   "id": "1c7db1fc",
   "metadata": {},
   "outputs": [],
   "source": []
  },
  {
   "cell_type": "code",
   "execution_count": null,
   "id": "b0b92857",
   "metadata": {},
   "outputs": [],
   "source": []
  }
 ],
 "metadata": {
  "kernelspec": {
   "display_name": "Python 3 (ipykernel)",
   "language": "python",
   "name": "python3"
  },
  "language_info": {
   "codemirror_mode": {
    "name": "ipython",
    "version": 3
   },
   "file_extension": ".py",
   "mimetype": "text/x-python",
   "name": "python",
   "nbconvert_exporter": "python",
   "pygments_lexer": "ipython3",
   "version": "3.10.12"
  }
 },
 "nbformat": 4,
 "nbformat_minor": 5
}
