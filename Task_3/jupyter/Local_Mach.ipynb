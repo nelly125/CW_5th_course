{
 "cells": [
  {
   "cell_type": "code",
   "execution_count": 1,
   "id": "0cff2cf5",
   "metadata": {},
   "outputs": [],
   "source": [
    "import numpy as np"
   ]
  },
  {
   "cell_type": "code",
   "execution_count": 3,
   "id": "b55e4196",
   "metadata": {},
   "outputs": [],
   "source": [
    "w0 = np.load(\"Mach_0.txt.npy\")"
   ]
  },
  {
   "cell_type": "code",
   "execution_count": null,
   "id": "dccb3a2e",
   "metadata": {},
   "outputs": [],
   "source": [
    "def uvp(w, dr, dtheta, r, theta,  Mah):\n",
    "    id, jd = w.shape\n",
    "    id -= 1\n",
    "    jd -=1\n",
    "    cv = np.zeros(id + 1)\n",
    "    cu = 1/ (2 * dr)\n",
    "    for i in range(id + 1):\n",
    "        cv[i] = 0.5 / (r[i] * dtheta)\n",
    "    u = np.zeros((id + 1, jd + 1))\n",
    "    v = np.zeros((id + 1, jd + 1))\n",
    "    p = np.ones((id + 1, jd + 1))\n",
    "    cMM = Mah * Mah * 0.2\n",
    "    for j in range(1, jd):\n",
    "        for i in range(1, id):\n",
    "            u[i, j] = (w[i + 1, j] - w[i - 1, j]) * cu\n",
    "            v[i, j] = (w[i, j + 1] - w[i, j - 1]) * cv[i]\n",
    "            VV = u[i, j]**2 + v[i, j]**2\n",
    "            q = (1 - VV) * cMM + 1\n",
    "            p[i, j] = np.sqrt(q) * q**2\n",
    "        v[0, j] = v[1, j]\n",
    "    for i in range(1, id):\n",
    "        u[i, 0] = u[i, 1]\n",
    "        u[i, jd] = u[i, jd - 1]\n",
    "    return u, v, p"
   ]
  }
 ],
 "metadata": {
  "kernelspec": {
   "display_name": "Python 3 (ipykernel)",
   "language": "python",
   "name": "python3"
  },
  "language_info": {
   "codemirror_mode": {
    "name": "ipython",
    "version": 3
   },
   "file_extension": ".py",
   "mimetype": "text/x-python",
   "name": "python",
   "nbconvert_exporter": "python",
   "pygments_lexer": "ipython3",
   "version": "3.10.12"
  }
 },
 "nbformat": 4,
 "nbformat_minor": 5
}
