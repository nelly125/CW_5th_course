{
 "cells": [
  {
   "cell_type": "code",
   "execution_count": 9,
   "id": "c022dd7d",
   "metadata": {},
   "outputs": [
    {
     "data": {
      "image/png": "[encoded data removed]",
      "text/plain": [
       "<Figure size 576x432 with 1 Axes>"
      ]
     },
     "metadata": {
      "needs_background": "light"
     },
     "output_type": "display_data"
    }
   ],
   "source": [
    "import matplotlib.pyplot as plt\n",
    "import numpy as np\n",
    "\n",
    "def integrand(theta, z, rq):\n",
    "    return (1 - rq * np.cos(theta)) / np.sqrt(rq**2 + 1 - 2 * rq * np.cos(theta)) * z / np.sqrt(z**2 - (rq**2 + 1 - 2 * rq * np.cos(theta))) * np.cos(theta)\n",
    "\n",
    "def rectangular_integration(z, rq, n):\n",
    "    integral_sum = 0.0\n",
    "    for k in range(1, n + 1):\n",
    "        theta_k = 2 * np.pi * k / n\n",
    "        integral_sum += integrand(theta_k, z, rq)\n",
    "    integral = rq * 2 * np.pi / n * integral_sum\n",
    "    return integral\n",
    "\n",
    "rq = 2\n",
    "z_values = np.linspace(rq**2 -1 + 0.001, 7, 1000)\n",
    "n_value = 1000\n",
    "\n",
    "F_values = [rectangular_integration(z_val, rq, n_value) for z_val in z_values]\n",
    "\n",
    "plt.figure(figsize=(8, 6))\n",
    "plt.plot(z_values, F_values, label=f'rq={rq}')\n",
    "plt.xlabel('z')\n",
    "plt.ylabel('F(z)')\n",
    "plt.legend()\n",
    "plt.grid(True)\n",
    "plt.show()"
   ]
  },
  {
   "cell_type": "code",
   "execution_count": 2,
   "id": "1337351c",
   "metadata": {},
   "outputs": [],
   "source": [
    "delta_z = z_values[1] - z_values[0]"
   ]
  },
  {
   "cell_type": "code",
   "execution_count": 3,
   "id": "add4b5d5",
   "metadata": {},
   "outputs": [],
   "source": [
    "F_delta_z = rectangular_integration(z_values[0] + delta_z, rq, n_value)"
   ]
  },
  {
   "cell_type": "code",
   "execution_count": 4,
   "id": "46655672",
   "metadata": {},
   "outputs": [
    {
     "data": {
      "text/plain": [
       "-15.930795644509516"
      ]
     },
     "execution_count": 4,
     "metadata": {},
     "output_type": "execute_result"
    }
   ],
   "source": [
    "F_delta_z"
   ]
  },
  {
   "cell_type": "code",
   "execution_count": 5,
   "id": "440b0a7e",
   "metadata": {},
   "outputs": [],
   "source": [
    "tau_1 = delta_z - 1"
   ]
  },
  {
   "cell_type": "code",
   "execution_count": 6,
   "id": "cccbf162",
   "metadata": {},
   "outputs": [
    {
     "data": {
      "text/plain": [
       "-0.9596060606060606"
      ]
     },
     "execution_count": 6,
     "metadata": {},
     "output_type": "execute_result"
    }
   ],
   "source": [
    "tau_1"
   ]
  },
  {
   "cell_type": "code",
   "execution_count": null,
   "id": "f681f166",
   "metadata": {},
   "outputs": [],
   "source": []
  },
  {
   "cell_type": "code",
   "execution_count": null,
   "id": "d45718a3",
   "metadata": {},
   "outputs": [],
   "source": [
    "g1 = "
   ]
  }
 ],
 "metadata": {
  "kernelspec": {
   "display_name": "Python 3 (ipykernel)",
   "language": "python",
   "name": "python3"
  },
  "language_info": {
   "codemirror_mode": {
    "name": "ipython",
    "version": 3
   },
   "file_extension": ".py",
   "mimetype": "text/x-python",
   "name": "python",
   "nbconvert_exporter": "python",
   "pygments_lexer": "ipython3",
   "version": "3.10.12"
  }
 },
 "nbformat": 4,
 "nbformat_minor": 5
}
